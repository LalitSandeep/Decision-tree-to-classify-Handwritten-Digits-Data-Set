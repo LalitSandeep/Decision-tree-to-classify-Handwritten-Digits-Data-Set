{
 "cells": [
  {
   "cell_type": "code",
   "execution_count": 3,
   "metadata": {
    "collapsed": false
   },
   "outputs": [
    {
     "name": "stdout",
     "output_type": "stream",
     "text": [
      "DecisionTreeClassifier(class_weight=None, criterion='gini', max_depth=None,\n",
      "            max_features=None, max_leaf_nodes=None, min_samples_leaf=1,\n",
      "            min_samples_split=2, min_weight_fraction_leaf=0.0,\n",
      "            presort=False, random_state=None, splitter='best')\n",
      "[[172   0   1   0   2   2   0   0   1   0]\n",
      " [  0 154   0   7   1   0   2   2   6  10]\n",
      " [  1   7 142   5   2   2   2   6   7   3]\n",
      " [  0   2  10 144   0   6   0   3   8  10]\n",
      " [  1  12   0   0 143   3   7   3   9   3]\n",
      " [  1   3   3   4   0 165   5   0   0   1]\n",
      " [  0   2   1   0   1   0 173   0   4   0]\n",
      " [  0   1   7   0   5  10   0 139  11   6]\n",
      " [  0   5   4   3   2   2   0   1 150   7]\n",
      " [  0   7   2   4   2   6   0   0   4 155]]\n",
      "The accuracy is \n",
      "0.85531441291\n"
     ]
    }
   ],
   "source": [
    "import numpy as np\n",
    "import urllib.request\n",
    "import matplotlib.pylab as plt\n",
    "from sklearn.cross_validation import train_test_split\n",
    "from sklearn.tree import DecisionTreeClassifier\n",
    "\n",
    "from sklearn import metrics\n",
    "from sklearn.tree import DecisionTreeClassifier\n",
    "from sklearn.metrics import classification_report\n",
    "\n",
    "# The url with dataset\n",
    "url = \"http://archive.ics.uci.edu/ml/machine-learning-databases/optdigits/optdigits.tra\"\n",
    "\n",
    "raw_data = urllib.request.urlopen(url)\n",
    "# load the CSV file as a numpy matrix\n",
    "dataset = np.loadtxt(raw_data, delimiter=\",\")\n",
    "# Separating the input attributes from the label\n",
    "X = dataset[:,0:63]\n",
    "y = dataset[:,64]\n",
    "\n",
    "url1 = \"http://archive.ics.uci.edu/ml/machine-learning-databases/optdigits/optdigits.tes\"\n",
    "raw_data1 = urllib.request.urlopen(url1)\n",
    "\n",
    "datast = np.loadtxt(raw_data1, delimiter=\",\")\n",
    "A = datast[:,0:63]\n",
    "B = datast[:,64]\n",
    "\n",
    "model = DecisionTreeClassifier()\n",
    "model.fit(X, y)\n",
    "print(model)\n",
    "expected = y\n",
    "# making predictions to data. Finding the accuracy and confusion matrix.\n",
    "predicted = model.predict(A)\n",
    "print(metrics.confusion_matrix(B,predicted))\n",
    "print(\"The accuracy is \")\n",
    "print(metrics.accuracy_score(B, predicted))\n",
    "\n",
    "\n",
    "\n",
    "\n",
    "\n",
    "\n",
    "\n",
    "\n",
    "\n",
    "\n",
    "\n"
   ]
  },
  {
   "cell_type": "code",
   "execution_count": null,
   "metadata": {
    "collapsed": true
   },
   "outputs": [],
   "source": []
  }
 ],
 "metadata": {
  "anaconda-cloud": {},
  "kernelspec": {
   "display_name": "Python [conda root]",
   "language": "python",
   "name": "conda-root-py"
  },
  "language_info": {
   "codemirror_mode": {
    "name": "ipython",
    "version": 3
   },
   "file_extension": ".py",
   "mimetype": "text/x-python",
   "name": "python",
   "nbconvert_exporter": "python",
   "pygments_lexer": "ipython3",
   "version": "3.5.2"
  }
 },
 "nbformat": 4,
 "nbformat_minor": 1
}
